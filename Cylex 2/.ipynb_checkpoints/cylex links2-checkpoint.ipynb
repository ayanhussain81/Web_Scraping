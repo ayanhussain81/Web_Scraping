{
 "cells": [
  {
   "cell_type": "code",
   "execution_count": 11,
   "id": "a30cd087",
   "metadata": {},
   "outputs": [],
   "source": [
    "from bs4 import BeautifulSoup\n",
    "import requests,time,csv\n",
    "import urllib.parse\n",
    "from csv import writer\n",
    "\n",
    "from urllib.parse import urlparse, parse_qs"
   ]
  },
  {
   "cell_type": "code",
   "execution_count": null,
   "id": "cd7c2259",
   "metadata": {},
   "outputs": [],
   "source": []
  },
  {
   "cell_type": "code",
   "execution_count": null,
   "id": "8054bea1",
   "metadata": {},
   "outputs": [],
   "source": []
  },
  {
   "cell_type": "code",
   "execution_count": null,
   "id": "565119b7",
   "metadata": {},
   "outputs": [],
   "source": []
  },
  {
   "cell_type": "code",
   "execution_count": null,
   "id": "e09a5589",
   "metadata": {},
   "outputs": [],
   "source": []
  },
  {
   "cell_type": "code",
   "execution_count": 12,
   "id": "13cb003f",
   "metadata": {
    "scrolled": true
   },
   "outputs": [
    {
     "name": "stdout",
     "output_type": "stream",
     "text": [
      "https://www.cylex-uk.co.uk/s?q=healthcare&c=Leeds&z=LS&p=1&dst=roundhay&sUrl=&cUrl=leeds&ho=1 0\n",
      "1\n",
      "https://www.cylex-uk.co.uk/s?q=healthcare&c=Leeds&z=LS&p=1&dst=seacroft&sUrl=&cUrl=leeds&ho=1 1\n",
      "1\n",
      "https://www.cylex-uk.co.uk/s?q=healthcare&c=Leeds&z=LS&p=1&dst=sheepscar&sUrl=&cUrl=leeds&ho=1 2\n",
      "1\n",
      "https://www.cylex-uk.co.uk/s?q=healthcare&c=Leeds&z=LS&p=1&dst=woodhouse&sUrl=&cUrl=leeds&ho=1 3\n",
      "2\n",
      "https://www.cylex-uk.co.uk/s?q=healthcare&c=Leeds&z=LS&p=1&dst=headingley&sUrl=&cUrl=leeds&he=1 4\n",
      "1\n",
      "https://www.cylex-uk.co.uk/s?q=healthcare&c=Leeds&z=LS&p=1&dst=holbeck&sUrl=&cUrl=leeds&he=1 5\n",
      "1\n",
      "https://www.cylex-uk.co.uk/s?q=healthcare&c=Leeds&z=LS&p=1&dst=none&sUrl=&cUrl=leeds&hr=1 6\n",
      "3\n",
      "https://www.cylex-uk.co.uk/s?q=it%20services&c=Leeds&z=LS&p=1&dst=colton&sUrl=&cUrl=leeds&hw=1 7\n",
      "1\n",
      "https://www.cylex-uk.co.uk/s?q=it%20services&c=Leeds&z=LS&p=1&dst=roundhay&sUrl=&cUrl=leeds&hw=1 8\n",
      "2\n",
      "https://www.cylex-uk.co.uk/s?q=it%20services&c=Leeds&z=LS&p=1&dst=woodhouse&sUrl=&cUrl=leeds&hw=1 9\n",
      "5\n"
     ]
    }
   ],
   "source": [
    "def parsed_url(urll):\n",
    "    parsed_url = urlparse(urll)\n",
    "    query_params = parse_qs(parsed_url.query)\n",
    "    district = query_params[\"dst\"][0]\n",
    "    city = query_params[\"cUrl\"][0]\n",
    "    cate = query_params[\"q\"][0]\n",
    "    query = cate + \"&&&\" + city + \"&&&\" + district\n",
    "    return query\n",
    "\n",
    "\n",
    "with open('D:/1 Speedy Lancer office/Cylex 2/Leeds/extlinks.csv', 'a', encoding= 'utf8' ,newline='') as f:\n",
    "    thewriter = writer(f)\n",
    "    with open('D:/1 Speedy Lancer office/Cylex 2/Leeds/links.csv', 'r') as file:\n",
    "        reader = csv.reader(file)\n",
    "        for count, row in enumerate(reader):\n",
    "            for url in row:\n",
    "                print(url,count)\n",
    "                query = parsed_url(url)\n",
    "                sa_key = '0f4eb3aea0eb40c7a34ee5318e7de482'\n",
    "                sa_api = 'https://api.scrapingant.com/v2/general'\n",
    "                qParams = {'url': url, 'x-api-key': sa_key}\n",
    "                reqUrl = f'{sa_api}?{urllib.parse.urlencode(qParams)}'  \n",
    "                r = requests.get(reqUrl)\n",
    "                soup = BeautifulSoup(r.content, 'html.parser')\n",
    "                links = soup.find_all('div', class_='h4 bold my-2')\n",
    "                con = 0 \n",
    "                for link in links:\n",
    "                    con = 1+con\n",
    "                    datas = link.find('a')\n",
    "                    data = datas['href']\n",
    "                    comp_data = data + \"joining\" + query\n",
    "                    info=[comp_data]\n",
    "                    thewriter.writerow(info)\n",
    "                print(con)\n",
    "\n"
   ]
  },
  {
   "cell_type": "code",
   "execution_count": null,
   "id": "34a3b069",
   "metadata": {},
   "outputs": [],
   "source": []
  },
  {
   "cell_type": "code",
   "execution_count": null,
   "id": "c14451ae",
   "metadata": {},
   "outputs": [],
   "source": []
  }
 ],
 "metadata": {
  "kernelspec": {
   "display_name": "Python 3 (ipykernel)",
   "language": "python",
   "name": "python3"
  },
  "language_info": {
   "codemirror_mode": {
    "name": "ipython",
    "version": 3
   },
   "file_extension": ".py",
   "mimetype": "text/x-python",
   "name": "python",
   "nbconvert_exporter": "python",
   "pygments_lexer": "ipython3",
   "version": "3.11.0"
  }
 },
 "nbformat": 4,
 "nbformat_minor": 5
}
