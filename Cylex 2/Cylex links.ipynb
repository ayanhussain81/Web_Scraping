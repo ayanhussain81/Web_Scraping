{
 "cells": [
  {
   "cell_type": "code",
   "execution_count": 1,
   "id": "a8bfdbbd",
   "metadata": {},
   "outputs": [],
   "source": [
    "from bs4 import BeautifulSoup\n",
    "import requests,time,csv\n",
    "import urllib.parse\n",
    "from csv import writer\n",
    "from urllib.parse import urlparse, parse_qs"
   ]
  },
  {
   "cell_type": "code",
   "execution_count": 2,
   "id": "664ee6ed",
   "metadata": {
    "scrolled": true
   },
   "outputs": [],
   "source": [
    "def parsed_url(urll):\n",
    "    parsed_url = urlparse(urll)\n",
    "    query_params = parse_qs(parsed_url.query)\n",
    "    district = query_params[\"dst\"][0]\n",
    "    city = query_params[\"cUrl\"][0]\n",
    "    cate = query_params[\"q\"][0]\n",
    "    query = cate + \"&&&\" + city + \"&&&\" + district\n",
    "    return query\n",
    "\n",
    "\n",
    "with open('------------------', 'a', encoding= 'utf8' ,newline='') as f:\n",
    "    thewriter = writer(f)\n",
    "    with open('---------------', 'r') as file:\n",
    "        reader = csv.reader(file)\n",
    "        for count, row in enumerate(reader):\n",
    "            for url in row:\n",
    "                print(url,count)\n",
    "                query = parsed_url(url)\n",
    "                sa_key = '---------------------------'\n",
    "                sa_api = 'https://api.scrapingant.com/v2/general'\n",
    "                qParams = {'url': url, 'x-api-key': sa_key}\n",
    "                reqUrl = f'{sa_api}?{urllib.parse.urlencode(qParams)}'  \n",
    "                r = requests.get(reqUrl)\n",
    "                soup = BeautifulSoup(r.content, 'html.parser')\n",
    "                links = soup.find_all('div', class_='h4 bold my-2')\n",
    "                con = 0 \n",
    "                for link in links:\n",
    "                    con = 1+con\n",
    "                    datas = link.find('a')\n",
    "                    data = datas['href']\n",
    "                    comp_data = data + \"joining\" + query\n",
    "                    info=[comp_data]\n",
    "                    thewriter.writerow(info)\n",
    "                print(con)\n",
    "\n"
   ]
  },
  {
   "cell_type": "code",
   "execution_count": null,
   "id": "b87f9b50",
   "metadata": {},
   "outputs": [],
   "source": []
  }
 ],
 "metadata": {
  "kernelspec": {
   "display_name": "Python 3 (ipykernel)",
   "language": "python",
   "name": "python3"
  },
  "language_info": {
   "codemirror_mode": {
    "name": "ipython",
    "version": 3
   },
   "file_extension": ".py",
   "mimetype": "text/x-python",
   "name": "python",
   "nbconvert_exporter": "python",
   "pygments_lexer": "ipython3",
   "version": "3.8.10"
  }
 },
 "nbformat": 4,
 "nbformat_minor": 5
}
