{
 "cells": [
  {
   "cell_type": "code",
   "execution_count": 5,
   "id": "4eac970f",
   "metadata": {},
   "outputs": [
    {
     "name": "stdout",
     "output_type": "stream",
     "text": [
      "https://www.cylex-uk.co.uk/s?q=it%20services&c=london&z=&p=2&dst=bayswater&sUrl=&cUrl=london&he=1\n",
      "https://www.cylex-uk.co.uk/s?q=it%20services&c=london&z=&p=3&dst=bayswater&sUrl=&cUrl=london&he=1\n"
     ]
    }
   ],
   "source": [
    "urll = 'https://www.cylex-uk.co.uk/s?q=it%20services&c=london&z=&p=1&dst=bayswater&sUrl=&cUrl=london&he=1'\n",
    "parts = urll.split('=1&')\n"
   ]
  },
  {
   "cell_type": "code",
   "execution_count": null,
   "id": "1b9f1b00",
   "metadata": {},
   "outputs": [],
   "source": [
    "def parsed_url(urll):\n",
    "    parsed_url = urlparse(urll)\n",
    "    query_params = parse_qs(parsed_url.query)\n",
    "    district = query_params[\"dst\"][0]\n",
    "    city = query_params[\"cUrl\"][0]\n",
    "    cate = query_params[\"q\"][0]\n",
    "    query = cate + \"&&&\" + city + \"&&&\" + district\n",
    "    return query\n",
    "\n",
    "def data(links ,queryy):\n",
    "    con = 0 \n",
    "    for link in links:\n",
    "        con = 1+con\n",
    "        datas = link.find('a')\n",
    "        data = datas['href']\n",
    "        comp_data = data + \"joining\" + queryy\n",
    "        info=[comp_data]\n",
    "        thewriter.writerow(info)\n",
    "    return con\n",
    "\n",
    "url ='https://www.cylex-uk.co.uk/s?q=it%20services&c=london&z=&p=1&dst=clerkenwell&sUrl=&cUrl=london&he=1'\n",
    "query = parsed_url(url)\n",
    "sa_key = '2d394427d1bc431aa97b83f8eceb79d5'\n",
    "sa_api = 'https://api.scrapingant.com/v2/general'\n",
    "qParams = {'url': url, 'x-api-key': sa_key}\n",
    "reqUrl = f'{sa_api}?{urllib.parse.urlencode(qParams)}'  \n",
    "r = requests.get(reqUrl)\n",
    "soup = BeautifulSoup(r.content, 'html.parser')\n",
    "links = soup.find_all('div', class_='h4 bold my-2')\n",
    "conn = data(links,query)\n",
    "# con = 0 \n",
    "# for link in links:\n",
    "#     con = 1+con\n",
    "#     datas = link.find('a')\n",
    "#     data = datas['href']\n",
    "#     comp_data = data + \"joining\" + query\n",
    "#     info=[comp_data]\n",
    "#     thewriter.writerow(info)\n",
    "if conn == 20:\n",
    "    parts = url.split('=1&')\n",
    "    listt = ['=2&','=3&']\n",
    "    for i in listt:\n",
    "        join = parts[0] + i + parts[1]\n",
    "        query = parsed_url(url)\n",
    "https://www.cylex-uk.co.uk/s?q=it%20services&c=london&z=&p=1&dst=bayswater&sUrl=&cUrl=london&he=1\n"
   ]
  }
 ],
 "metadata": {
  "kernelspec": {
   "display_name": "Python 3 (ipykernel)",
   "language": "python",
   "name": "python3"
  },
  "language_info": {
   "codemirror_mode": {
    "name": "ipython",
    "version": 3
   },
   "file_extension": ".py",
   "mimetype": "text/x-python",
   "name": "python",
   "nbconvert_exporter": "python",
   "pygments_lexer": "ipython3",
   "version": "3.11.0"
  }
 },
 "nbformat": 4,
 "nbformat_minor": 5
}
