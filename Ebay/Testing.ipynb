{
 "cells": [
  {
   "cell_type": "code",
   "execution_count": 1,
   "id": "8138cb83",
   "metadata": {},
   "outputs": [],
   "source": [
    "\n",
    "\n",
    "import csv\n",
    "import time\n",
    "import sys\n",
    "import requests\n",
    "import shutil\n",
    "import os"
   ]
  },
  {
   "cell_type": "code",
   "execution_count": 5,
   "id": "3f152200",
   "metadata": {},
   "outputs": [
    {
     "name": "stdout",
     "output_type": "stream",
     "text": [
      "2023-01-26-14-10-48\\\n"
     ]
    }
   ],
   "source": [
    "outputFile = \"resultsEbay.csv\"\n",
    "\n",
    "if __name__ == \"__main__\":\n",
    "    fh=open(\"last_errors.txt\", \"w\")\n",
    "    argvs = sys.argv\n",
    "    fr = open(\"numbers.txt\", \"r\")\n",
    "    img_number = int(fr.readlines()[-1].replace(\"\\n\", \"\"))\n",
    "    img_number += 1\n",
    "    fr.close()\n",
    "    \n",
    "    start_time = time.strftime(\"%Y-%m-%d-%H-%M-%S\", time.gmtime(time.time())) + \"\\\\\"\n",
    "    image_folder = \"images\\\\\"\n",
    "    print(start_time)\n",
    "\n",
    "    if os.path.isdir(start_time) == False:\n",
    "        os.mkdir(start_time)\n",
    "    if os.path.isdir(start_time + image_folder) == False:\n",
    "        os.mkdir(start_time + image_folder)\n",
    "\n",
    "    with open(start_time + outputFile, \"w\", newline=\"\") as fw:\n",
    "        header = [\"ItemID\", \"Title\", \"Description\", \"Cost\", \"Image 1\", \"Image 2\", \"Image 3\", \"Image 4\"]\n",
    "        employee_writer = csv.writer(fw, delimiter=',', quotechar='\"', quoting=csv.QUOTE_MINIMAL)\n",
    "        employee_writer.writerow(header)\n",
    "    "
   ]
  },
  {
   "cell_type": "code",
   "execution_count": null,
   "id": "6a22b29d",
   "metadata": {},
   "outputs": [],
   "source": []
  }
 ],
 "metadata": {
  "kernelspec": {
   "display_name": "Python 3 (ipykernel)",
   "language": "python",
   "name": "python3"
  },
  "language_info": {
   "codemirror_mode": {
    "name": "ipython",
    "version": 3
   },
   "file_extension": ".py",
   "mimetype": "text/x-python",
   "name": "python",
   "nbconvert_exporter": "python",
   "pygments_lexer": "ipython3",
   "version": "3.11.0"
  }
 },
 "nbformat": 4,
 "nbformat_minor": 5
}
