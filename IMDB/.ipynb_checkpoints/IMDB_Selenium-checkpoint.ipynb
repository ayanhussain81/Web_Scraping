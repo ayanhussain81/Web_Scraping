{
 "cells": [
  {
   "cell_type": "code",
   "execution_count": 8,
   "id": "baa7bcd0",
   "metadata": {},
   "outputs": [],
   "source": [
    "from selenium import webdriver\n",
    "from csv import writer\n",
    "from selenium.webdriver.support.ui import Select\n",
    "import pandas as pd\n",
    "import time\n",
    "import requests\n",
    "import pandas as pd\n",
    "import numpy as npv"
   ]
  },
  {
   "cell_type": "code",
   "execution_count": null,
   "id": "272ff2ef",
   "metadata": {},
   "outputs": [],
   "source": [
    "Path = r\"F:\\\\chromedriver_win32\\\\chromedriver.exe\"\n",
    "driver = webdriver.Chrome(Path)\n",
    "\n",
    "url = 'https://www.imdb.com/search/title/?groups=top_250'\n",
    "driver.get(url)"
   ]
  },
  {
   "cell_type": "code",
   "execution_count": 6,
   "id": "16c14e3e",
   "metadata": {},
   "outputs": [],
   "source": [
    "Title = []\n",
    "Year = []\n",
    "Rating=[]\n",
    "Rank=[]\n"
   ]
  },
  {
   "cell_type": "code",
   "execution_count": null,
   "id": "7ba3f8fc",
   "metadata": {},
   "outputs": [],
   "source": [
    "block = driver.find_elements_by_class_name('lister-item')"
   ]
  },
  {
   "cell_type": "code",
   "execution_count": null,
   "id": "78eac534",
   "metadata": {},
   "outputs": [],
   "source": [
    "try:\n",
    "    for i in range(0, 50):\n",
    "        title = block[i].find_element_by_class_name('lister-item-header').text\n",
    "        rank = block[i].find_element_by_class_name('lister-item-index').text\n",
    "    #     year1= block[i].find_element_by_class_name('lister-item-year').text\n",
    "    #     print(year)\n",
    "        year = title[-6:]\n",
    "#         print(year)\n",
    "        rating = block[i].find_element_by_class_name('ratings-imdb-rating').text\n",
    "        #print(rating)\n",
    "        title = title.replace(rank + ' ', '')[:-7]\n",
    "#         print(title)\n",
    "#         Info.append(rank, title, year, rating)\n",
    "        info=[(rank, title, year, rating)]\n",
    "        print(info)\n",
    "\n",
    "except:\n",
    "    \"Fail\"\n",
    "\n",
    "driver.quit()\n"
   ]
  }
 ],
 "metadata": {
  "kernelspec": {
   "display_name": "Python 3",
   "language": "python",
   "name": "python3"
  },
  "language_info": {
   "codemirror_mode": {
    "name": "ipython",
    "version": 3
   },
   "file_extension": ".py",
   "mimetype": "text/x-python",
   "name": "python",
   "nbconvert_exporter": "python",
   "pygments_lexer": "ipython3",
   "version": "3.9.0"
  }
 },
 "nbformat": 4,
 "nbformat_minor": 5
}
