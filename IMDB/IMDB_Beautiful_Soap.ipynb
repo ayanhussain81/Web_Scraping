{
 "cells": [
  {
   "cell_type": "code",
   "execution_count": 6,
   "id": "21352d6f",
   "metadata": {},
   "outputs": [],
   "source": [
    "import requests\n",
    "from bs4 import BeautifulSoup\n",
    "from csv import writer\n",
    "from openpyxl import Workbook\n",
    "import csv"
   ]
  },
  {
   "cell_type": "code",
   "execution_count": 7,
   "id": "9453b086",
   "metadata": {},
   "outputs": [],
   "source": [
    "url = \"https://www.imdb.com/chart/top/?ref_=nv_mv_250\"\n",
    "page = requests.get(url)"
   ]
  },
  {
   "cell_type": "code",
   "execution_count": 8,
   "id": "3086bdca",
   "metadata": {},
   "outputs": [],
   "source": [
    "soup = BeautifulSoup(page.content, 'html.parser')\n",
    "lists = soup.find('tbody', class_='lister-list').find_all('tr')\n",
    "# print(lists)\n"
   ]
  },
  {
   "cell_type": "code",
   "execution_count": 5,
   "id": "496318bf",
   "metadata": {
    "scrolled": true
   },
   "outputs": [],
   "source": [
    "\n",
    "with open('IMD_csv', 'w' , encoding='utf8' , newline='') as f:\n",
    "    thewriter = writer(f)\n",
    "    header = [\"Rank\" , \"Title\", \"Year\", \"Rating\"]\n",
    "    thewriter.writerow(header)\n",
    "    info =[]\n",
    "    for list in lists:\n",
    "        rank = list.find('td' , class_=\"titleColumn\").get_text(strip=True).split('.')[0]\n",
    "        title = list.find('td' , class_=\"titleColumn\").a.text\n",
    "        year = list.find('td' , class_=\"titleColumn\").span.text.strip('()')\n",
    "        ratings = list.find('td', class_=\"ratingColumn\").strong.text\n",
    "        info = [rank,title, year , ratings]\n",
    "        thewriter.writerow(info)\n"
   ]
  },
  {
   "cell_type": "code",
   "execution_count": 9,
   "id": "ccadcfa6",
   "metadata": {},
   "outputs": [],
   "source": [
    "wb = Workbook()\n",
    "ws = wb.active\n",
    "with open('IMD_csv', 'r') as f:\n",
    "    for row in csv.reader(f):\n",
    "        ws.append(row)\n",
    "wb.save('my.xlsx')"
   ]
  },
  {
   "cell_type": "code",
   "execution_count": null,
   "id": "aebdf344",
   "metadata": {},
   "outputs": [],
   "source": []
  }
 ],
 "metadata": {
  "kernelspec": {
   "display_name": "Python 3",
   "language": "python",
   "name": "python3"
  },
  "language_info": {
   "codemirror_mode": {
    "name": "ipython",
    "version": 3
   },
   "file_extension": ".py",
   "mimetype": "text/x-python",
   "name": "python",
   "nbconvert_exporter": "python",
   "pygments_lexer": "ipython3",
   "version": "3.9.0"
  }
 },
 "nbformat": 4,
 "nbformat_minor": 5
}
