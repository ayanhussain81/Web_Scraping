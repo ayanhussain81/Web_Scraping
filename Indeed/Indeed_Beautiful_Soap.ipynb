{
 "cells": [
  {
   "cell_type": "code",
   "execution_count": 1,
   "id": "953f6771",
   "metadata": {},
   "outputs": [],
   "source": [
    "import requests\n",
    "from bs4 import BeautifulSoup\n",
    "from csv import writer"
   ]
  },
  {
   "cell_type": "code",
   "execution_count": 2,
   "id": "fce30cbb",
   "metadata": {},
   "outputs": [],
   "source": [
    "url = \"https://pk.indeed.com/jobs?q=web%20developer&l=Karachi&vjk=ef7d723a0d363a38&advn=3634762816229556\"\n",
    "page = requests.get(url)"
   ]
  },
  {
   "cell_type": "code",
   "execution_count": 4,
   "id": "b53e288c",
   "metadata": {},
   "outputs": [],
   "source": [
    "soup = BeautifulSoup(page.content,'html.parser')\n",
    "#print(soup.prettify())\n",
    "lists = soup.find_all('div', class_=\"slider_container\")\n"
   ]
  },
  {
   "cell_type": "code",
   "execution_count": 5,
   "id": "6858515e",
   "metadata": {},
   "outputs": [],
   "source": [
    "with open(\"JOBS_csv\",'w',encoding=\"utf8\",newline=\"\") as f:\n",
    "    thewriter = writer(f)\n",
    "    header = [\"Title\", \"Com_name\",\"Salary per month\"]\n",
    "    thewriter.writerow(header)\n",
    "    for list in lists:\n",
    "        title = list.find('h2',class_=\"jobTitle\").text\n",
    "        location = list.find('div', class_=\"company_location\").text\n",
    "        salary= list.find('div', class_=\"salary-snippet-container\").text.replace('Rs' , '')\n",
    "        info = [title,location,salary]\n",
    "        thewriter.writerow(info)"
   ]
  },
  {
   "cell_type": "code",
   "execution_count": null,
   "id": "9b5b7404",
   "metadata": {},
   "outputs": [],
   "source": []
  }
 ],
 "metadata": {
  "kernelspec": {
   "display_name": "Python 3",
   "language": "python",
   "name": "python3"
  },
  "language_info": {
   "codemirror_mode": {
    "name": "ipython",
    "version": 3
   },
   "file_extension": ".py",
   "mimetype": "text/x-python",
   "name": "python",
   "nbconvert_exporter": "python",
   "pygments_lexer": "ipython3",
   "version": "3.9.0"
  }
 },
 "nbformat": 4,
 "nbformat_minor": 5
}
