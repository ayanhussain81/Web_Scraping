{
 "cells": [
  {
   "cell_type": "code",
   "execution_count": 4,
   "id": "0ca022ee",
   "metadata": {},
   "outputs": [
    {
     "ename": "IndentationError",
     "evalue": "unexpected indent (<ipython-input-4-6af687d0d157>, line 9)",
     "output_type": "error",
     "traceback": [
      "\u001b[1;36m  File \u001b[1;32m\"<ipython-input-4-6af687d0d157>\"\u001b[1;36m, line \u001b[1;32m9\u001b[0m\n\u001b[1;33m    for i in range(5):\u001b[0m\n\u001b[1;37m    ^\u001b[0m\n\u001b[1;31mIndentationError\u001b[0m\u001b[1;31m:\u001b[0m unexpected indent\n"
     ]
    }
   ],
   "source": [
    "from lxml import html\n",
    "import csv, os, json\n",
    "import requests\n",
    "from exceptions import ValueError\n",
    "from time import sleep\n",
    "\n",
    "\n"
   ]
  },
  {
   "cell_type": "code",
   "execution_count": 5,
   "id": "725372c7",
   "metadata": {},
   "outputs": [
    {
     "ename": "SyntaxError",
     "evalue": "invalid syntax (<ipython-input-5-6d93cb89fff3>, line 1)",
     "output_type": "error",
     "traceback": [
      "\u001b[1;36m  File \u001b[1;32m\"<ipython-input-5-6d93cb89fff3>\"\u001b[1;36m, line \u001b[1;32m1\u001b[0m\n\u001b[1;33m    deflinkedin_companies_parser(url):\u001b[0m\n\u001b[1;37m                                      ^\u001b[0m\n\u001b[1;31mSyntaxError\u001b[0m\u001b[1;31m:\u001b[0m invalid syntax\n"
     ]
    }
   ],
   "source": [
    "deflinkedin_companies_parser(url):\n",
    "    for i in range(5):\n",
    "        try:\n",
    "            headers = {\n",
    "                        'User-Agent': 'Mozilla/5.0 (Windows NT 10.0; Win64; x64) AppleWebKit/537.36 (KHTML, like Gecko) Chrome/111.0.0.0 Safari/537.36'\n",
    "            }\n",
    "            print \"Fetching :\",url\n",
    "            response = requests.get(url, headers = headers,verify=False)\n",
    "formatted_response = response.content.replace('', '')\n",
    "            doc = html.fromstring(formatted_response)\n",
    "datafrom_xpath = doc.xpath('//code[@id=\"stream-promo-top-bar-embed-id-content\"]//text()')\n",
    "content_about = doc.xpath('//code[@id=\"stream-about-section-embed-id-content\"]')\n",
    "            if not content_about:\n",
    "content_about = doc.xpath('//code[@id=\"stream-footer-embed-id-content\"]')\n",
    "            if content_about:\n",
    "                Pass\n",
    "                # json_text = content_about[0].html_content().replace('','') \n",
    "                if datafrom_xpath: try: json_formatted_data = json.loads(datafrom_xpath[0]) company_name = json_formatted_data['companyName'] \n",
    "                if 'companyName' in json_formatted_data.keys() else None size = json_formatted_data['size'] \n",
    "                if 'size' in json_formatted_data.keys() else None industry = json_formatted_data['industry'] \n",
    "                if 'industry' in json_formatted_data.keys() else None description = json_formatted_data['description'] \n",
    "                if 'description' in json_formatted_data.keys() else None follower_count = json_formatted_data['followerCount'] \n",
    "                if 'followerCount' in json_formatted_data.keys() else None year_founded = json_formatted_data['yearFounded'] \n",
    "                if 'yearFounded' in json_formatted_data.keys() else None website = json_formatted_data['website'] \n",
    "                if 'website' in json_formatted_data.keys() else None type = json_formatted_data['companyType'] \n",
    "                if 'companyType' in json_formatted_data.keys() else None specialities = json_formatted_data['specialties'] \n",
    "                if 'specialties' in json_formatted_data.keys() else None \n",
    "                if \"headquarters\" in json_formatted_data.keys(): city = json_formatted_data[\"headquarters\"]['city'] \n",
    "                if 'city' in json_formatted_data[\"headquarters\"].keys() \n",
    "                else None country = json_formatted_data[\"headquarters\"]['country'] \n",
    "                if 'country' in json_formatted_data['headquarters'].keys() \n",
    "                else None state = json_formatted_data[\"headquarters\"]['state'] \n",
    "                if 'state' in json_formatted_data['headquarters'].keys() \n",
    "                else None street1 = json_formatted_data[\"headquarters\"]['street1'] \n",
    "                if 'street1' in json_formatted_data['headquarters'].keys() \n",
    "                else None street2 = json_formatted_data[\"headquarters\"]['street2'] \n",
    "                if 'street2' in json_formatted_data['headquarters'].keys() \n",
    "                else None zip = json_formatted_data[\"headquarters\"]['zip'] \n",
    "                if 'zip' in json_formatted_data['headquarters'].keys() \n",
    "                else None street = street1 + ', ' + street2 \n",
    "                else: city = None country = None state = None street1 = None street2 = None street = None zip = None data = { 'company_name': company_name, 'size': size, 'industry': industry, 'description': description, 'follower_count': follower_count, 'founded': year_founded, 'website': website, 'type': type, 'specialities': specialities, 'city': city, 'country': country, 'state': state, 'street': street, 'zip': zip, 'url': url } return data except: print \"cant parse page\", url \n",
    "                # Retry in case of captcha or login page redirection \n",
    "                if len(response.content) < 2000 or \"trk=login_reg_redirect\" in url: \n",
    "                    if response.status_code == 404: print \"linkedin page not found\" \n",
    "                    else: raise ValueError('redirecting to login page or captcha found') except : print \"retrying :\",url defreadurls(): companyurls = ['https://www.linkedin.com/company/tata-consultancy-services'] \n",
    "                        extracted_data = [] for url in companyurls: extracted_data.append(linkedin_companies_parser(url)) f = open('data.json', 'w') json.dump(extracted_data, f, indent=4) if __name__ == \"__main__\": readurls()\n",
    "    \n",
    "deflinkedin_companies_parser('https://www.linkedin.com/company/sabic/')\n"
   ]
  },
  {
   "cell_type": "code",
   "execution_count": 13,
   "id": "05f55c00",
   "metadata": {},
   "outputs": [
    {
     "ename": "IndentationError",
     "evalue": "expected an indented block (<ipython-input-13-68b7f5e02f58>, line 23)",
     "output_type": "error",
     "traceback": [
      "\u001b[1;36m  File \u001b[1;32m\"<ipython-input-13-68b7f5e02f58>\"\u001b[1;36m, line \u001b[1;32m23\u001b[0m\n\u001b[1;33m    content_about = doc.xpath('//code[@id=\"stream-footer-embed-id-content\"]')\u001b[0m\n\u001b[1;37m    ^\u001b[0m\n\u001b[1;31mIndentationError\u001b[0m\u001b[1;31m:\u001b[0m expected an indented block\n"
     ]
    }
   ],
   "source": [
    "from lxml import html\n",
    "import csv, os, json\n",
    "import requests\n",
    "from exceptions import ValueError\n",
    "from time import sleep\n",
    "\t\n",
    "\t\n",
    "def linkedin_companies_parser(url):\n",
    "    for i in range(5):\n",
    "        try:\n",
    "            headers = {\n",
    "                        'User-Agent': 'Mozilla/5.0 (X11; Linux x86_64) AppleWebKit/537.36 (KHTML, like Gecko) Chrome/42.0.2311.90 Safari/537.36'\n",
    "            }\n",
    "            print(\"Fetching :\",url)\n",
    "            response = requests.get(url, headers = headers,verify=False)\n",
    "        \n",
    "            formatted_response = response.content.replace('', '')\n",
    "            doc = html.fromstring(formatted_response)\n",
    "            datafrom_xpath = doc.xpath('//code[@id=\"stream-promo-top-bar-embed-id-content\"]//text()')\n",
    "            content_about = doc.xpath('//code[@id=\"stream-about-section-embed-id-content\"]')\n",
    "            if not content_about:\n",
    "            content_about = doc.xpath('//code[@id=\"stream-footer-embed-id-content\"]')\n",
    "            if content_about:\n",
    "                Pass\n",
    "                # json_text = content_about[0].html_content().replace('','') \n",
    "                if datafrom_xpath: try: json_formatted_data = json.loads(datafrom_xpath[0]) company_name = json_formatted_data['companyName'] \n",
    "                if 'companyName' in json_formatted_data.keys() else None size = json_formatted_data['size'] \n",
    "                if 'size' in json_formatted_data.keys() else None industry = json_formatted_data['industry'] \n",
    "                if 'industry' in json_formatted_data.keys() else None description = json_formatted_data['description'] \n",
    "                if 'description' in json_formatted_data.keys() else None follower_count = json_formatted_data['followerCount'] \n",
    "                if 'followerCount' in json_formatted_data.keys() else None year_founded = json_formatted_data['yearFounded'] \n",
    "                if 'yearFounded' in json_formatted_data.keys() else None website = json_formatted_data['website'] \n",
    "                if 'website' in json_formatted_data.keys() else None type = json_formatted_data['companyType'] \n",
    "                if 'companyType' in json_formatted_data.keys() else None specialities = json_formatted_data['specialties'] \n",
    "                if 'specialties' in json_formatted_data.keys() else None \n",
    "                if \"headquarters\" in json_formatted_data.keys(): city = json_formatted_data[\"headquarters\"]['city'] \n",
    "                if 'city' in json_formatted_data[\"headquarters\"].keys() \n",
    "                else None country = json_formatted_data[\"headquarters\"]['country'] \n",
    "                if 'country' in json_formatted_data['headquarters'].keys() \n",
    "                else None state = json_formatted_data[\"headquarters\"]['state'] \n",
    "                if 'state' in json_formatted_data['headquarters'].keys() \n",
    "                else None street1 = json_formatted_data[\"headquarters\"]['street1'] \n",
    "                if 'street1' in json_formatted_data['headquarters'].keys() \n",
    "                else None street2 = json_formatted_data[\"headquarters\"]['street2'] \n",
    "                if 'street2' in json_formatted_data['headquarters'].keys() \n",
    "                else None zip = json_formatted_data[\"headquarters\"]['zip'] \n",
    "                if 'zip' in json_formatted_data['headquarters'].keys() \n",
    "                else None street = street1 + ', ' + street2 \n",
    "                else: city = None country = None state = None street1 = None street2 = None street = None zip = None data = { 'company_name': company_name, 'size': size, 'industry': industry, 'description': description, 'follower_count': follower_count, 'founded': year_founded, 'website': website, 'type': type, 'specialities': specialities, 'city': city, 'country': country, 'state': state, 'street': street, 'zip': zip, 'url': url } return data except: print \"cant parse page\", url \n",
    "                # Retry in case of captcha or login page redirection \n",
    "                if len(response.content) < 2000 or \"trk=login_reg_redirect\" in url: \n",
    "                    if response.status_code == 404: print \"linkedin page not found\" \n",
    "                    else: raise ValueError('redirecting to login page or captcha found') except : print \"retrying :\",url defreadurls(): companyurls = ['https://www.linkedin.com/company/tata-consultancy-services'] \n",
    "                        extracted_data = [] for url in companyurls: extracted_data.append(linkedin_companies_parser(url)) f = open('data.json', 'w') json.dump(extracted_data, f, indent=4) if __name__ == \"__main__\": readurls()\n",
    "deflinkedin_companies_parser('https://www.linkedin.com/company/sabic/')\n",
    "\n"
   ]
  },
  {
   "cell_type": "code",
   "execution_count": null,
   "id": "bd7f25d8",
   "metadata": {},
   "outputs": [],
   "source": []
  }
 ],
 "metadata": {
  "kernelspec": {
   "display_name": "Python 3",
   "language": "python",
   "name": "python3"
  },
  "language_info": {
   "codemirror_mode": {
    "name": "ipython",
    "version": 3
   },
   "file_extension": ".py",
   "mimetype": "text/x-python",
   "name": "python",
   "nbconvert_exporter": "python",
   "pygments_lexer": "ipython3",
   "version": "3.9.0"
  }
 },
 "nbformat": 4,
 "nbformat_minor": 5
}
