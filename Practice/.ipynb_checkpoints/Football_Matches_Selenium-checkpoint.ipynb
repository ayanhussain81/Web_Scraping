{
 "cells": [
  {
   "cell_type": "code",
   "execution_count": null,
   "id": "9e8670c1",
   "metadata": {},
   "outputs": [],
   "source": [
    "from selenium import webdriver\n",
    "from selenium.webdriver.support.ui import Select\n",
    "import pandas as pd\n",
    "import time"
   ]
  },
  {
   "cell_type": "code",
   "execution_count": null,
   "id": "c5bfb5e4",
   "metadata": {},
   "outputs": [],
   "source": [
    "# Topics: Locate a button, select element within dropdown and extract data from a table\n",
    "\n",
    "# define the website to scrape and path where the chromediver is located\n",
    "website = 'https://www.adamchoi.co.uk/teamgoals/detailed'\n",
    "path = 'F:\\\\chromedriver_win32\\\\chromedriver.exe' # write the path here"
   ]
  },
  {
   "cell_type": "code",
   "execution_count": null,
   "id": "e5a068eb",
   "metadata": {},
   "outputs": [],
   "source": [
    "\n",
    "# define 'driver' variable\n",
    "driver = webdriver.Chrome(path)\n",
    "# open Google Chrome with chromedriver\n",
    "driver.get(website)"
   ]
  },
  {
   "cell_type": "code",
   "execution_count": null,
   "id": "0d74c799",
   "metadata": {},
   "outputs": [],
   "source": [
    "# locate a button\n",
    "all_matches_button = driver.find_element_by_xpath('//label[@analytics-event=\"All matches\"]')\n",
    "# click on a button\n",
    "all_matches_button.click()"
   ]
  },
  {
   "cell_type": "code",
   "execution_count": null,
   "id": "6b522c8b",
   "metadata": {},
   "outputs": [],
   "source": [
    "\n",
    "# using the \"box\" section as a reference to help us locate an element inside\n",
    "box = driver.find_element_by_class_name('panel-body')\n",
    "# select dropdown and select element inside by visible text\n",
    "dropdown = Select(box.find_element_by_id('country'))\n",
    "dropdown.select_by_visible_text('Spain')\n",
    "# implicit wait (useful in JavaScript driven websites when elements need seconds to load and avoid error \"ElementNotVisibleException\")\n",
    "time.sleep(5)\n",
    "# select elements in the table\n",
    "matches = driver.find_elements_by_css_selector('tr')\n",
    "\n",
    "# storage in a list\n",
    "all_matches = [match.text for match in matches]\n"
   ]
  },
  {
   "cell_type": "code",
   "execution_count": null,
   "id": "2129fb35",
   "metadata": {},
   "outputs": [],
   "source": [
    "# Bonus: Create Dataframe in Pandas and export to CSV (Excel)\n",
    "df = pd.DataFrame({'goals': all_matches})\n",
    "print(df)\n",
    "df.to_csv('tutorial.csv', index=False)"
   ]
  }
 ],
 "metadata": {
  "kernelspec": {
   "display_name": "Python 3",
   "language": "python",
   "name": "python3"
  },
  "language_info": {
   "codemirror_mode": {
    "name": "ipython",
    "version": 3
   },
   "file_extension": ".py",
   "mimetype": "text/x-python",
   "name": "python",
   "nbconvert_exporter": "python",
   "pygments_lexer": "ipython3",
   "version": "3.9.0"
  }
 },
 "nbformat": 4,
 "nbformat_minor": 5
}
