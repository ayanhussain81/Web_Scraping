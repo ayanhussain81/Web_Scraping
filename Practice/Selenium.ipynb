{
 "cells": [
  {
   "cell_type": "code",
   "execution_count": 7,
   "id": "9af30c73",
   "metadata": {},
   "outputs": [],
   "source": [
    "from selenium import webdriver\n",
    "from selenium.webdriver.support.ui import Select\n",
    "import pandas as pd\n",
    "import requests\n",
    "import pandas as pd\n",
    "import numpy as np\n",
    "import pyodbc"
   ]
  },
  {
   "cell_type": "code",
   "execution_count": 8,
   "id": "413f83e3",
   "metadata": {},
   "outputs": [],
   "source": [
    "Path = r\"F:\\\\chromedriver_win32\\\\chromedriver.exe\""
   ]
  },
  {
   "cell_type": "code",
   "execution_count": 9,
   "id": "aca64ced",
   "metadata": {},
   "outputs": [
    {
     "name": "stderr",
     "output_type": "stream",
     "text": [
      "<ipython-input-9-a7dd609c4272>:1: DeprecationWarning: executable_path has been deprecated, please pass in a Service object\n",
      "  driver = webdriver.Chrome(Path)\n"
     ]
    }
   ],
   "source": [
    "driver = webdriver.Chrome(Path)"
   ]
  },
  {
   "cell_type": "code",
   "execution_count": 10,
   "id": "8b30901f",
   "metadata": {},
   "outputs": [],
   "source": [
    "url = 'https://www.imdb.com/search/title/?groups=top_250'\n",
    "driver.get(url)"
   ]
  },
  {
   "cell_type": "code",
   "execution_count": 11,
   "id": "87d950fc",
   "metadata": {},
   "outputs": [
    {
     "name": "stderr",
     "output_type": "stream",
     "text": [
      "<ipython-input-11-ac7dbd1ac05b>:1: DeprecationWarning: find_elements_by_class_name is deprecated. Please use find_elements(by=By.CLASS_NAME, value=name) instead\n",
      "  block = driver.find_elements_by_class_name('lister-item')\n"
     ]
    },
    {
     "ename": "AttributeError",
     "evalue": "'list' object has no attribute 'text'",
     "output_type": "error",
     "traceback": [
      "\u001b[1;31m---------------------------------------------------------------------------\u001b[0m",
      "\u001b[1;31mAttributeError\u001b[0m                            Traceback (most recent call last)",
      "\u001b[1;32m<ipython-input-11-ac7dbd1ac05b>\u001b[0m in \u001b[0;36m<module>\u001b[1;34m\u001b[0m\n\u001b[0;32m      1\u001b[0m \u001b[0mblock\u001b[0m \u001b[1;33m=\u001b[0m \u001b[0mdriver\u001b[0m\u001b[1;33m.\u001b[0m\u001b[0mfind_elements_by_class_name\u001b[0m\u001b[1;33m(\u001b[0m\u001b[1;34m'lister-item'\u001b[0m\u001b[1;33m)\u001b[0m\u001b[1;33m\u001b[0m\u001b[1;33m\u001b[0m\u001b[0m\n\u001b[1;32m----> 2\u001b[1;33m \u001b[0mprint\u001b[0m\u001b[1;33m(\u001b[0m\u001b[0mblock\u001b[0m\u001b[1;33m.\u001b[0m\u001b[0mtext\u001b[0m\u001b[1;33m)\u001b[0m\u001b[1;33m\u001b[0m\u001b[1;33m\u001b[0m\u001b[0m\n\u001b[0m",
      "\u001b[1;31mAttributeError\u001b[0m: 'list' object has no attribute 'text'"
     ]
    }
   ],
   "source": [
    "block = driver.find_elements_by_class_name('lister-item')\n",
    "print(block)"
   ]
  },
  {
   "cell_type": "code",
   "execution_count": 5,
   "id": "180de0a8",
   "metadata": {},
   "outputs": [
    {
     "name": "stderr",
     "output_type": "stream",
     "text": [
      "<ipython-input-5-93c35ffc8e8c>:2: DeprecationWarning: find_elements_by_class_name is deprecated. Please use find_elements(by=By.CLASS_NAME, value=name) instead\n",
      "  block = driver.find_elements_by_class_name('lister-item')\n",
      "<ipython-input-5-93c35ffc8e8c>:5: DeprecationWarning: find_element_by_class_name is deprecated. Please use find_element(by=By.CLASS_NAME, value=name) instead\n",
      "  title = block[i].find_element_by_class_name('lister-item-header').text\n",
      "<ipython-input-5-93c35ffc8e8c>:6: DeprecationWarning: find_element_by_class_name is deprecated. Please use find_element(by=By.CLASS_NAME, value=name) instead\n",
      "  rank = block[i].find_element_by_class_name('lister-item-index').text\n",
      "<ipython-input-5-93c35ffc8e8c>:16: DeprecationWarning: find_element_by_class_name is deprecated. Please use find_element(by=By.CLASS_NAME, value=name) instead\n",
      "  rating = block[i].find_element_by_class_name('ratings-imdb-rating').text\n"
     ]
    }
   ],
   "source": [
    "Info=[]\n",
    "block = driver.find_elements_by_class_name('lister-item')\n",
    "\n",
    "try:\n",
    "    for i in range(0, 50):\n",
    "        title = block[i].find_element_by_class_name('lister-item-header').text\n",
    "        rank = block[i].find_element_by_class_name('lister-item-index').text\n",
    "    #     year1= block[i].find_element_by_class_name('lister-item-year').text\n",
    "     \n",
    "        year = title[-6:].strip('()')\n",
    "   \n",
    "        \n",
    "#         year=year.replace('(','')\n",
    "#         year= year.replace()\n",
    "   \n",
    "#         print(year)\n",
    "        rating = block[i].find_element_by_class_name('ratings-imdb-rating').text\n",
    "        #print(rating)\n",
    "        title = title.replace(rank + ' ', '')[:-7]\n",
    "        rank=rank.replace('.','')\n",
    "       \n",
    "#         print(title)\n",
    "        Info.append((rank, title, year, rating))\n",
    "#         Info=[rank, title, year, rating]\n",
    "#         print(Info)\n",
    "\n",
    "\n",
    "except:\n",
    "    \"Fail\"\n",
    "\n"
   ]
  },
  {
   "cell_type": "code",
   "execution_count": 6,
   "id": "a0a1ce05",
   "metadata": {},
   "outputs": [
    {
     "data": {
      "text/plain": [
       "[('1', 'Everything Everywhere All at Once', '2022', '8.8'),\n",
       " ('2', 'Spider-Man: No Way Home', '2021', '8.4'),\n",
       " ('3', 'The Godfather', '1972', '9.2'),\n",
       " ('4',\n",
       "  'Pirates of the Caribbean: The Curse of the Black Pearl',\n",
       "  '2003',\n",
       "  '8.0'),\n",
       " ('5', 'Avengers: Endgame', '2019', '8.4'),\n",
       " ('6', 'The Shawshank Redemption', '1994', '9.3'),\n",
       " ('7', 'The Dark Knight', '2008', '9.0'),\n",
       " ('8', 'Forrest Gump', '1994', '8.8'),\n",
       " ('9', 'Avengers: Infinity War', '2018', '8.4'),\n",
       " ('10', 'The Wolf of Wall Street', '2013', '8.2'),\n",
       " ('11', 'Interstellar', '2014', '8.6'),\n",
       " ('12', 'Jurassic Park', '1993', '8.2'),\n",
       " ('13', 'Incendies', '2010', '8.3'),\n",
       " ('14', 'Requiem for a Dream', '2000', '8.3'),\n",
       " ('15', 'Joker (I)', '2019', '8.4'),\n",
       " ('16', 'Pulp Fiction', '1994', '8.9'),\n",
       " ('17', 'Inception', '2010', '8.8'),\n",
       " ('18', 'The Godfather: Part II', '1974', '9.0'),\n",
       " ('19', 'Star Wars', '1977', '8.6'),\n",
       " ('20', 'Fight Club', '1999', '8.8'),\n",
       " ('21', 'Saving Private Ryan', '1998', '8.6'),\n",
       " ('22', 'The Green Mile', '1999', '8.6'),\n",
       " ('23', 'Parasite', '2019', '8.5'),\n",
       " ('24', 'The Lord of the Rings: The Fellowship of the Ring', '2001', '8.8'),\n",
       " ('25', 'The Departed', '2006', '8.5'),\n",
       " ('26', 'Inglourious Basterds', '2009', '8.3'),\n",
       " ('27', 'Gone Girl', '2014', '8.1'),\n",
       " ('28', \"Schindler's List\", '1993', '9.0'),\n",
       " ('29', '1917', '2019', '8.2'),\n",
       " ('30', 'Goodfellas', '1990', '8.7'),\n",
       " ('31', 'The Shining', '1980', '8.4'),\n",
       " ('32', 'Seven', '1995', '8.6'),\n",
       " ('33', 'Heat', '1995', '8.3'),\n",
       " ('34', 'No Country for Old Men', '2007', '8.2'),\n",
       " ('35', 'Gladiator', '2000', '8.5'),\n",
       " ('36', 'Prisoners', '2013', '8.1'),\n",
       " ('37', 'Django Unchained', '2012', '8.4'),\n",
       " ('38', 'Good Will Hunting', '1997', '8.3'),\n",
       " ('39', 'Alien', '1979', '8.5'),\n",
       " ('40', 'Taxi Driver', '1976', '8.3'),\n",
       " ('41', 'Batman Begins', '2005', '8.2'),\n",
       " ('42', 'Terminator 2: Judgment Day', '1991', '8.6'),\n",
       " ('43', 'The Silence of the Lambs', '1991', '8.6'),\n",
       " ('44', 'Whiplash', '2014', '8.5'),\n",
       " ('45', 'Mad Max: Fury Road', '2015', '8.1'),\n",
       " ('46', 'Blade Runner', '1982', '8.1'),\n",
       " ('47', 'The Dark Knight Rises', '2012', '8.4'),\n",
       " ('48', 'Spider-Man: Into the Spider-Verse', '2018', '8.4'),\n",
       " ('49', 'Apocalypse Now', '1979', '8.5'),\n",
       " ('50', 'Leon', '1994', '8.5')]"
      ]
     },
     "execution_count": 6,
     "metadata": {},
     "output_type": "execute_result"
    }
   ],
   "source": [
    "Info"
   ]
  },
  {
   "cell_type": "code",
   "execution_count": 1,
   "id": "51347a64",
   "metadata": {},
   "outputs": [
    {
     "ename": "NameError",
     "evalue": "name 'np' is not defined",
     "output_type": "error",
     "traceback": [
      "\u001b[1;31m---------------------------------------------------------------------------\u001b[0m",
      "\u001b[1;31mNameError\u001b[0m                                 Traceback (most recent call last)",
      "\u001b[1;32m<ipython-input-1-1d243e4b0efd>\u001b[0m in \u001b[0;36m<module>\u001b[1;34m\u001b[0m\n\u001b[1;32m----> 1\u001b[1;33m \u001b[0mscrap_data\u001b[0m \u001b[1;33m=\u001b[0m \u001b[0mnp\u001b[0m\u001b[1;33m.\u001b[0m\u001b[0masarray\u001b[0m\u001b[1;33m(\u001b[0m\u001b[0mInfo\u001b[0m\u001b[1;33m)\u001b[0m\u001b[1;33m\u001b[0m\u001b[1;33m\u001b[0m\u001b[0m\n\u001b[0m\u001b[0;32m      2\u001b[0m \u001b[0mlen\u001b[0m\u001b[1;33m(\u001b[0m\u001b[0mscrap_data\u001b[0m\u001b[1;33m)\u001b[0m\u001b[1;33m\u001b[0m\u001b[1;33m\u001b[0m\u001b[0m\n",
      "\u001b[1;31mNameError\u001b[0m: name 'np' is not defined"
     ]
    }
   ],
   "source": [
    "scrap_data = np.asarray(Info)\n",
    "len(scrap_data)"
   ]
  },
  {
   "cell_type": "code",
   "execution_count": 8,
   "id": "1b637119",
   "metadata": {},
   "outputs": [],
   "source": [
    "df = pd.DataFrame(scrap_data)"
   ]
  },
  {
   "cell_type": "code",
   "execution_count": 9,
   "id": "613b6105",
   "metadata": {},
   "outputs": [
    {
     "data": {
      "text/html": [
       "<div>\n",
       "<style scoped>\n",
       "    .dataframe tbody tr th:only-of-type {\n",
       "        vertical-align: middle;\n",
       "    }\n",
       "\n",
       "    .dataframe tbody tr th {\n",
       "        vertical-align: top;\n",
       "    }\n",
       "\n",
       "    .dataframe thead th {\n",
       "        text-align: right;\n",
       "    }\n",
       "</style>\n",
       "<table border=\"1\" class=\"dataframe\">\n",
       "  <thead>\n",
       "    <tr style=\"text-align: right;\">\n",
       "      <th></th>\n",
       "      <th>0</th>\n",
       "      <th>1</th>\n",
       "      <th>2</th>\n",
       "      <th>3</th>\n",
       "    </tr>\n",
       "  </thead>\n",
       "  <tbody>\n",
       "    <tr>\n",
       "      <th>0</th>\n",
       "      <td>1</td>\n",
       "      <td>Everything Everywhere All at Once</td>\n",
       "      <td>2022</td>\n",
       "      <td>8.8</td>\n",
       "    </tr>\n",
       "    <tr>\n",
       "      <th>1</th>\n",
       "      <td>2</td>\n",
       "      <td>Spider-Man: No Way Home</td>\n",
       "      <td>2021</td>\n",
       "      <td>8.4</td>\n",
       "    </tr>\n",
       "    <tr>\n",
       "      <th>2</th>\n",
       "      <td>3</td>\n",
       "      <td>The Godfather</td>\n",
       "      <td>1972</td>\n",
       "      <td>9.2</td>\n",
       "    </tr>\n",
       "    <tr>\n",
       "      <th>3</th>\n",
       "      <td>4</td>\n",
       "      <td>Pirates of the Caribbean: The Curse of the Bla...</td>\n",
       "      <td>2003</td>\n",
       "      <td>8.0</td>\n",
       "    </tr>\n",
       "    <tr>\n",
       "      <th>4</th>\n",
       "      <td>5</td>\n",
       "      <td>Avengers: Endgame</td>\n",
       "      <td>2019</td>\n",
       "      <td>8.4</td>\n",
       "    </tr>\n",
       "  </tbody>\n",
       "</table>\n",
       "</div>"
      ],
      "text/plain": [
       "   0                                                  1     2    3\n",
       "0  1                  Everything Everywhere All at Once  2022  8.8\n",
       "1  2                            Spider-Man: No Way Home  2021  8.4\n",
       "2  3                                      The Godfather  1972  9.2\n",
       "3  4  Pirates of the Caribbean: The Curse of the Bla...  2003  8.0\n",
       "4  5                                  Avengers: Endgame  2019  8.4"
      ]
     },
     "execution_count": 9,
     "metadata": {},
     "output_type": "execute_result"
    }
   ],
   "source": [
    "df.head()"
   ]
  },
  {
   "cell_type": "code",
   "execution_count": 10,
   "id": "acbd2461",
   "metadata": {},
   "outputs": [],
   "source": [
    "df.columns =['rank', 'title', 'year', 'rating']"
   ]
  },
  {
   "cell_type": "code",
   "execution_count": 11,
   "id": "ae30bc7f",
   "metadata": {},
   "outputs": [
    {
     "data": {
      "text/html": [
       "<div>\n",
       "<style scoped>\n",
       "    .dataframe tbody tr th:only-of-type {\n",
       "        vertical-align: middle;\n",
       "    }\n",
       "\n",
       "    .dataframe tbody tr th {\n",
       "        vertical-align: top;\n",
       "    }\n",
       "\n",
       "    .dataframe thead th {\n",
       "        text-align: right;\n",
       "    }\n",
       "</style>\n",
       "<table border=\"1\" class=\"dataframe\">\n",
       "  <thead>\n",
       "    <tr style=\"text-align: right;\">\n",
       "      <th></th>\n",
       "      <th>rank</th>\n",
       "      <th>title</th>\n",
       "      <th>year</th>\n",
       "      <th>rating</th>\n",
       "    </tr>\n",
       "  </thead>\n",
       "  <tbody>\n",
       "    <tr>\n",
       "      <th>0</th>\n",
       "      <td>1</td>\n",
       "      <td>Everything Everywhere All at Once</td>\n",
       "      <td>2022</td>\n",
       "      <td>8.8</td>\n",
       "    </tr>\n",
       "    <tr>\n",
       "      <th>1</th>\n",
       "      <td>2</td>\n",
       "      <td>Spider-Man: No Way Home</td>\n",
       "      <td>2021</td>\n",
       "      <td>8.4</td>\n",
       "    </tr>\n",
       "    <tr>\n",
       "      <th>2</th>\n",
       "      <td>3</td>\n",
       "      <td>The Godfather</td>\n",
       "      <td>1972</td>\n",
       "      <td>9.2</td>\n",
       "    </tr>\n",
       "    <tr>\n",
       "      <th>3</th>\n",
       "      <td>4</td>\n",
       "      <td>Pirates of the Caribbean: The Curse of the Bla...</td>\n",
       "      <td>2003</td>\n",
       "      <td>8.0</td>\n",
       "    </tr>\n",
       "    <tr>\n",
       "      <th>4</th>\n",
       "      <td>5</td>\n",
       "      <td>Avengers: Endgame</td>\n",
       "      <td>2019</td>\n",
       "      <td>8.4</td>\n",
       "    </tr>\n",
       "  </tbody>\n",
       "</table>\n",
       "</div>"
      ],
      "text/plain": [
       "  rank                                              title  year rating\n",
       "0    1                  Everything Everywhere All at Once  2022    8.8\n",
       "1    2                            Spider-Man: No Way Home  2021    8.4\n",
       "2    3                                      The Godfather  1972    9.2\n",
       "3    4  Pirates of the Caribbean: The Curse of the Bla...  2003    8.0\n",
       "4    5                                  Avengers: Endgame  2019    8.4"
      ]
     },
     "execution_count": 11,
     "metadata": {},
     "output_type": "execute_result"
    }
   ],
   "source": [
    "df.head()"
   ]
  },
  {
   "cell_type": "code",
   "execution_count": 12,
   "id": "9bfab090",
   "metadata": {},
   "outputs": [],
   "source": [
    "conn = pyodbc.connect('Driver={SQL Server};'\n",
    "                      'Server=LAPTOP-NEEIVGK7\\AYAN;'\n",
    "                      'Database=webdata;'\n",
    "                      'Trusted_Connection=yes;')\n",
    "cursor = conn.cursor()\n"
   ]
  },
  {
   "cell_type": "code",
   "execution_count": 13,
   "id": "7ac0a6bd",
   "metadata": {},
   "outputs": [],
   "source": [
    "for row in df.itertuples():\n",
    "    cursor.execute('''\n",
    "                INSERT INTO webdata.dbo.webd(rank,title,year,rating)\n",
    "                VALUES(?,?,?,?)\n",
    "                ''',\n",
    "                row.rank,\n",
    "                row.title,\n",
    "                row.year,\n",
    "                row.rating\n",
    "            \n",
    "                          )\n",
    "conn.commit()\n"
   ]
  },
  {
   "cell_type": "markdown",
   "id": "cee7e324",
   "metadata": {},
   "source": [
    "# "
   ]
  },
  {
   "cell_type": "code",
   "execution_count": null,
   "id": "5c2d3152",
   "metadata": {},
   "outputs": [],
   "source": []
  },
  {
   "cell_type": "code",
   "execution_count": null,
   "id": "81a230ce",
   "metadata": {},
   "outputs": [],
   "source": []
  },
  {
   "cell_type": "code",
   "execution_count": null,
   "id": "53e28ca0",
   "metadata": {},
   "outputs": [],
   "source": []
  },
  {
   "cell_type": "code",
   "execution_count": null,
   "id": "a534c729",
   "metadata": {},
   "outputs": [],
   "source": []
  }
 ],
 "metadata": {
  "kernelspec": {
   "display_name": "Python 3",
   "language": "python",
   "name": "python3"
  },
  "language_info": {
   "codemirror_mode": {
    "name": "ipython",
    "version": 3
   },
   "file_extension": ".py",
   "mimetype": "text/x-python",
   "name": "python",
   "nbconvert_exporter": "python",
   "pygments_lexer": "ipython3",
   "version": "3.9.0"
  }
 },
 "nbformat": 4,
 "nbformat_minor": 5
}
