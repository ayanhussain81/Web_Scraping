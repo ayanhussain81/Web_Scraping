{
 "cells": [
  {
   "cell_type": "code",
   "execution_count": null,
   "id": "8de1fc36",
   "metadata": {},
   "outputs": [],
   "source": [
    "import csv\n",
    "from _csv import writer\n",
    "import json\n",
    "from selenium import webdriver\n",
    "from selenium.webdriver.common.by import By\n",
    "import time\n",
    "\n",
    "from selenium.webdriver.chrome.options  import Options"
   ]
  },
  {
   "cell_type": "code",
   "execution_count": null,
   "id": "0fb735b8",
   "metadata": {},
   "outputs": [],
   "source": [
    "options =Options()\n",
    "# options.add_argument(\"--incognito\")\n",
    "# options.add_argument(\"--disable-site-isolation-trials\")\n",
    "driver= webdriver.Chrome()"
   ]
  },
  {
   "cell_type": "code",
   "execution_count": null,
   "id": "2f763673",
   "metadata": {},
   "outputs": [],
   "source": [
    "with open('Data.csv', 'w', encoding= 'utf8' ,newline='') as f:\n",
    "    thewriter = writer(f)\n",
    "    header= [\"zip\", \"state_name\", \"state_abbr\", \"county_name\", \"fmr0\", \"fmr1\", \"fmr2\", \"fmr3\", \"fmr4\", \"area_name\",\n",
    "     \"area_token\",\"metro\", \"fmr_type\", \"overall_rank\", \"overall_percentile\"]\n",
    "    thewriter.writerow(header)\n",
    "    info =[]\n",
    "    with open('Rentdata.csv', 'r') as file:\n",
    "        reader = csv.reader(file)\n",
    "        for count, row in enumerate(reader):\n",
    "            for i in row:\n",
    "                try:\n",
    "                    driver.get(i)\n",
    "                    time.sleep(1)\n",
    "                    print(i)\n",
    "                    body = driver.find_element(By.TAG_NAME, \"body\").text\n",
    "                    result = json.loads(body)\n",
    "                    zip = result['zip']\n",
    "                    state_name = result['state_name']\n",
    "                    state_abbr = result['state_abbr']\n",
    "                    county_name = result['county_name']\n",
    "                    fmr0 = result['fmr0']\n",
    "                    fmr1 = result['fmr1']\n",
    "                    fmr2 = result['fmr2']\n",
    "                    fmr3 = result['fmr3']\n",
    "                    fmr4 = result['fmr4']\n",
    "                    area_name = result['area_name']\n",
    "                    area_token = result['area_token']\n",
    "                    metro = result['metro']\n",
    "                    fmr_type = result['fmr_type']\n",
    "                    overall_rank = result['overall_rank']\n",
    "                    overall_percentile = result['overall_percentile']\n",
    "                    info = [zip, state_name, state_abbr, county_name, fmr0, fmr1, fmr2, fmr3, fmr4, area_name,\n",
    "                            area_token,\n",
    "                            metro, fmr_type, overall_rank, overall_percentile]\n",
    "                    thewriter.writerow(info)\n",
    "                except Exception as e:\n",
    "                    print(e)\n"
   ]
  }
 ],
 "metadata": {
  "kernelspec": {
   "display_name": "Python 3",
   "language": "python",
   "name": "python3"
  },
  "language_info": {
   "codemirror_mode": {
    "name": "ipython",
    "version": 3
   },
   "file_extension": ".py",
   "mimetype": "text/x-python",
   "name": "python",
   "nbconvert_exporter": "python",
   "pygments_lexer": "ipython3",
   "version": "3.9.0"
  }
 },
 "nbformat": 4,
 "nbformat_minor": 5
}
